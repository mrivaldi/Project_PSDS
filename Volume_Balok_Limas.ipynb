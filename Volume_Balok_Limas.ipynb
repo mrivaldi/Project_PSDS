{
  "nbformat": 4,
  "nbformat_minor": 0,
  "metadata": {
    "colab": {
      "name": "Volume_Balok_Limas.ipynb",
      "provenance": [],
      "collapsed_sections": [],
      "authorship_tag": "ABX9TyOKCu6mSlOpbjK2/11/3QIT",
      "include_colab_link": true
    },
    "kernelspec": {
      "name": "python3",
      "display_name": "Python 3"
    }
  },
  "cells": [
    {
      "cell_type": "markdown",
      "metadata": {
        "id": "view-in-github",
        "colab_type": "text"
      },
      "source": [
        "<a href=\"https://colab.research.google.com/github/mrivaldi/Project_PSDS/blob/main/Volume_Balok_Limas.ipynb\" target=\"_parent\"><img src=\"https://colab.research.google.com/assets/colab-badge.svg\" alt=\"Open In Colab\"/></a>"
      ]
    },
    {
      "cell_type": "code",
      "metadata": {
        "id": "-403sndQR9zb"
      },
      "source": [
        "def volume_balok(p, l, t1):\r\n",
        "  P = float(p)\r\n",
        "  L = float(l)\r\n",
        "  T1 = float(t1)\r\n",
        "  volume = P*L*T1\r\n",
        "  return volume\r\n",
        "def volume_limas(p, l, t2):\r\n",
        "  P = float(p)\r\n",
        "  L = float(l)\r\n",
        "  T2 = float(t2)\r\n",
        "  volume = P*L*T2/3\r\n",
        "  return volume\r\n",
        "def volume_balok_limas(p, l, t1, t2):\r\n",
        "  v1 = volume_balok(p, l, t1)\r\n",
        "  v2 = volume_limas(p, l, t2)\r\n",
        "  volume = v1 + v2\r\n",
        "  return volume"
      ],
      "execution_count": null,
      "outputs": []
    }
  ]
}